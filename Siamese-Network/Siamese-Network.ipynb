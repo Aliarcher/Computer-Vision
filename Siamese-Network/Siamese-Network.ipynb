{
 "cells": [
  {
   "cell_type": "markdown",
   "id": "8bad2592-8d90-4a80-9123-42f51a89b346",
   "metadata": {},
   "source": [
    "# [Daily Dose of Data Science](http://join.dailydoseofds.com/)\n",
    "\n",
    "Code accompaning the newsletter issue: [Implementing a Siamese Network](https://blog.dailydoseofds.com/p/implementing-a-siamese-network)\n",
    "\n",
    "Author: Avi Chawla"
   ]
  },
  {
   "cell_type": "markdown",
   "id": "248d8978-b082-432f-ad47-ee784dc6f255",
   "metadata": {},
   "source": [
    "## Imports"
   ]
  },
  {
   "cell_type": "code",
   "execution_count": 1,
   "id": "45272686-9178-4dcd-a9c3-f0bb826ae82a",
   "metadata": {},
   "outputs": [],
   "source": [
    "import torch\n",
    "import torch.nn as nn\n",
    "import torch.nn.functional as F\n",
    "import numpy as np\n",
    "import random\n",
    "import torchvision.transforms as transforms\n",
    "import matplotlib.pyplot as plt\n",
    "\n",
    "from torch.utils.data import DataLoader, Dataset\n",
    "from torchvision.datasets import MNIST\n",
    "from torch import optim"
   ]
  },
  {
   "cell_type": "markdown",
   "id": "a483933c-0fe6-4b02-87de-b3ca28dcc2a7",
   "metadata": {},
   "source": [
    "## Dataset"
   ]
  },
  {
   "cell_type": "code",
   "execution_count": 22,
   "id": "e924e567-a393-4df5-bb5c-97bd55701af6",
   "metadata": {},
   "outputs": [],
   "source": [
    "class SiameseDataset(Dataset):\n",
    "    def __init__(self, data, transform=None):\n",
    "        self.data = data    \n",
    "        self.transform = transform\n",
    "            \n",
    "    def __getitem__(self, index):\n",
    "        imgA, labelA = self.data[index]\n",
    "        \n",
    "        same_class_flag = random.randint(0, 1)\n",
    "        \n",
    "        if same_class_flag:\n",
    "            labelB = -1\n",
    "            \n",
    "            while labelB != labelA:\n",
    "                imgB, labelB = random.choice(self.data)\n",
    "                \n",
    "        else:\n",
    "            labelB = labelA\n",
    "            \n",
    "            while labelB == labelA:\n",
    "                imgB, labelB = random.choice(self.data)\n",
    "\n",
    "        if self.transform:\n",
    "            imgA = self.transform(imgA)\n",
    "            imgB = self.transform(imgB)\n",
    "            \n",
    "        return imgA, imgB, torch.tensor([(labelA != labelB)], dtype=torch.float32)\n",
    "\n",
    "    def __len__(self):\n",
    "        return len(self.data)"
   ]
  },
  {
   "cell_type": "code",
   "execution_count": 24,
   "id": "79241ce5-8ed2-46f5-8333-295c02cbbb89",
   "metadata": {
    "scrolled": true
   },
   "outputs": [],
   "source": [
    "mnist_train = MNIST(root='./data', train=True, download=True)\n",
    "mnist_test = MNIST(root='./data', train=False, download=True)\n",
    "\n",
    "transform = transforms.Compose([transforms.ToTensor()])\n",
    "\n",
    "siamese_train = SiameseDataset(mnist_train, transform)\n",
    "siamese_test = SiameseDataset(mnist_test, transform)"
   ]
  },
  {
   "cell_type": "markdown",
   "id": "3a05693f-3516-4cba-a74e-864e0667f7da",
   "metadata": {},
   "source": [
    "## Network"
   ]
  },
  {
   "cell_type": "code",
   "execution_count": 25,
   "id": "c2f04b78-33de-4020-a87d-d651d320af07",
   "metadata": {},
   "outputs": [],
   "source": [
    "class SiameseNetwork(nn.Module):\n",
    "    def __init__(self):\n",
    "        super(SiameseNetwork, self).__init__()\n",
    "\n",
    "        self.cnn = nn.Sequential(\n",
    "            nn.Conv2d(1, 64, kernel_size=5, stride=1, padding=2),\n",
    "            nn.ReLU(inplace=True),\n",
    "            nn.MaxPool2d(2, stride=2),\n",
    "\n",
    "            nn.Conv2d(64, 128, kernel_size=5, stride=1, padding=2),\n",
    "            nn.ReLU(inplace=True),\n",
    "            nn.MaxPool2d(2, stride=2),\n",
    "\n",
    "            nn.Conv2d(128, 256, kernel_size=3, stride=1, padding=1),\n",
    "            nn.ReLU(inplace=True),\n",
    "            nn.MaxPool2d(2, stride=2)\n",
    "        )\n",
    "\n",
    "        self.fc = nn.Sequential(\n",
    "            nn.Linear(256 * 3 * 3, 1024),\n",
    "            nn.ReLU(inplace=True),\n",
    "\n",
    "            nn.Linear(1024, 256),\n",
    "            nn.ReLU(inplace=True),\n",
    "\n",
    "            nn.Linear(256, 2)\n",
    "        )\n",
    "\n",
    "    def forward_once(self, x):\n",
    "        output = self.cnn(x)\n",
    "        output = output.view(output.size()[0], -1)\n",
    "        output = self.fc(output)\n",
    "        return output\n",
    "\n",
    "    def forward(self, inputA, inputB):\n",
    "        outputA = self.forward_once(inputA)\n",
    "        outputB = self.forward_once(inputB)\n",
    "        return outputA, outputB"
   ]
  },
  {
   "cell_type": "markdown",
   "id": "1663bd05-585a-4b6f-9e0e-64ab74e8062c",
   "metadata": {},
   "source": [
    "## Loss function"
   ]
  },
  {
   "cell_type": "code",
   "execution_count": 31,
   "id": "911be2cb-e203-4e0e-afae-5fc9a6747cb7",
   "metadata": {},
   "outputs": [],
   "source": [
    "class ContrastiveLoss(torch.nn.Module):\n",
    "    \n",
    "    def __init__(self, margin=2.0):\n",
    "        super(ContrastiveLoss, self).__init__()\n",
    "        self.margin = margin\n",
    "\n",
    "    def forward(self, outputA, outputB, label):\n",
    "        euclidean_distance = F.pairwise_distance(output1, output2, keepdim = True)\n",
    "\n",
    "        same_class_loss = (1-label) * (euclidean_distance**2)\n",
    "        diff_class_loss = (label) * (torch.clamp(self.margin - euclidean_distance, min=0.0)**2)\n",
    "    \n",
    "        return torch.mean(same_class_loss + diff_class_loss)"
   ]
  },
  {
   "cell_type": "markdown",
   "id": "67f53c12-3ba8-4521-807c-3cb3d9ca8b58",
   "metadata": {},
   "source": [
    "## Training"
   ]
  },
  {
   "cell_type": "code",
   "execution_count": 33,
   "id": "833a9119-0e73-4147-9ab5-590147393bb9",
   "metadata": {},
   "outputs": [],
   "source": [
    "train_dataloader = DataLoader(siamese_train,\n",
    "                        shuffle=True,\n",
    "                        num_workers=8,\n",
    "                        batch_size=64)\n",
    "\n",
    "net = SiameseNetwork().cuda()\n",
    "criterion = ContrastiveLoss()\n",
    "optimizer = optim.Adam(net.parameters(), lr = 0.001 )"
   ]
  },
  {
   "cell_type": "code",
   "execution_count": 34,
   "id": "4d28c979-c3c0-40c7-98e4-18d8348e6167",
   "metadata": {},
   "outputs": [
    {
     "name": "stdout",
     "output_type": "stream",
     "text": [
      "Epoch 0; Loss 294.2397748604417\n",
      "Epoch 1; Loss 102.84626789577305\n",
      "Epoch 2; Loss 63.36508319573477\n",
      "Epoch 3; Loss 44.61645963555202\n",
      "Epoch 4; Loss 32.77574067004025\n"
     ]
    }
   ],
   "source": [
    "for epoch in range(5):\n",
    "    total_loss = 0\n",
    "    \n",
    "    for imgA, imgB, label in train_dataloader:\n",
    "\n",
    "        imgA, imgB, label = imgA.cuda(), imgB.cuda(), label.cuda()\n",
    "        optimizer.zero_grad()\n",
    "        outputA, outputB = net(imgA, imgB)\n",
    "        loss_contrastive = criterion(outputA, outputB, label)\n",
    "        loss_contrastive.backward()\n",
    "\n",
    "        total_loss += loss_contrastive.item()\n",
    "        optimizer.step()\n",
    "\n",
    "    print(f\"Epoch {epoch}; Loss {total_loss}\")"
   ]
  },
  {
   "cell_type": "markdown",
   "id": "80dbf5b2-05cf-40b2-a5ed-edf8aa8878e9",
   "metadata": {},
   "source": [
    "## Plot outputs"
   ]
  },
  {
   "cell_type": "code",
   "execution_count": 41,
   "id": "ca54774f-7c0f-48fa-9149-9a07c7dacf0c",
   "metadata": {},
   "outputs": [
    {
     "name": "stdout",
     "output_type": "stream",
     "text": [
      "0.9199\n"
     ]
    },
    {
     "data": {
      "image/png": "[encoded data removed]",
      "text/plain": [
       "<Figure size 400x400 with 2 Axes>"
      ]
     },
     "metadata": {},
     "output_type": "display_data"
    },
    {
     "name": "stdout",
     "output_type": "stream",
     "text": [
      "0.0439\n"
     ]
    },
    {
     "data": {
      "image/png": "[encoded data removed]",
      "text/plain": [
       "<Figure size 400x400 with 2 Axes>"
      ]
     },
     "metadata": {},
     "output_type": "display_data"
    },
    {
     "name": "stdout",
     "output_type": "stream",
     "text": [
      "0.9008\n"
     ]
    },
    {
     "data": {
      "image/png": "[encoded data removed]",
      "text/plain": [
       "<Figure size 400x400 with 2 Axes>"
      ]
     },
     "metadata": {},
     "output_type": "display_data"
    },
    {
     "name": "stdout",
     "output_type": "stream",
     "text": [
      "0.0399\n"
     ]
    },
    {
     "data": {
      "image/png": "[encoded data removed]",
      "text/plain": [
       "<Figure size 400x400 with 2 Axes>"
      ]
     },
     "metadata": {},
     "output_type": "display_data"
    }
   ],
   "source": [
    "test_dataloader = DataLoader(siamese_test, shuffle=True, num_workers=8, batch_size=1)\n",
    "\n",
    "def show_image_pair(imgA, imgB, label, similarity_score, i):\n",
    "    \n",
    "    fig, ax = plt.subplots(1, 2, figsize=(4, 4))\n",
    "    ax[0].imshow(imgA.squeeze(), cmap='gray')\n",
    "    ax[0].set_title('Image 1')\n",
    "    ax[1].imshow(imgB.squeeze(), cmap='gray')\n",
    "    ax[1].set_title('Image 2')\n",
    "    plt.savefig(f\"image_{i}.jpeg\", bbox_inches=\"tight\", dpi = 300)\n",
    "    print(similarity_score)\n",
    "    plt.show()\n",
    "\n",
    "def visualize_siamese_pairs(data_loader, total_images=4):\n",
    "    for idx, batch in enumerate(data_loader):\n",
    "\n",
    "        if idx == total_images:\n",
    "            return\n",
    "            \n",
    "        imgA, imgB, label = batch\n",
    "        outputA, outputB = net(imgA.cuda(), imgB.cuda())\n",
    "        euclidean_distance = F.pairwise_distance(outputA, outputB)\n",
    "        similarity_score = torch.exp(-euclidean_distance)\n",
    "        \n",
    "        imgA = imgA[0].numpy()\n",
    "        imgB = imgB[0].numpy()\n",
    "        label = label[0].item()\n",
    "        \n",
    "        show_image_pair(imgA, imgB, label, round(similarity_score.item(), 4), idx)\n",
    "        \n",
    "visualize_siamese_pairs(test_dataloader, total_images=4)\n"
   ]
  }
 ],
 "metadata": {
  "kernelspec": {
   "display_name": "Python 3",
   "language": "python",
   "name": "python3"
  },
  "language_info": {
   "codemirror_mode": {
    "name": "ipython",
    "version": 3
   },
   "file_extension": ".py",
   "mimetype": "text/x-python",
   "name": "python",
   "nbconvert_exporter": "python",
   "pygments_lexer": "ipython3",
   "version": "3.10.10"
  }
 },
 "nbformat": 4,
 "nbformat_minor": 5
}
